{
 "cells": [
  {
   "cell_type": "markdown",
   "id": "dacaa309-740f-4212-9c41-04adf4008051",
   "metadata": {},
   "source": [
    "#### Import libraries"
   ]
  },
  {
   "cell_type": "code",
   "execution_count": 1,
   "id": "e3930e7f-ea65-4776-bc2b-4b6f61fbbe02",
   "metadata": {},
   "outputs": [],
   "source": [
    "import os\n",
    "import cv2\n",
    "import numpy as np\n",
    "import pandas as pd\n",
    "\n",
    "import re\n",
    "\n",
    "from sklearn.metrics import pairwise\n",
    "\n",
    "from insightface.app import FaceAnalysis"
   ]
  },
  {
   "cell_type": "markdown",
   "id": "4cc8e574-1964-490e-a767-b7086acbaa7c",
   "metadata": {},
   "source": [
    "#### Configure insightface"
   ]
  },
  {
   "cell_type": "code",
   "execution_count": 2,
   "id": "a4ea307c-df61-45e0-8389-26c2014807e7",
   "metadata": {},
   "outputs": [
    {
     "name": "stdout",
     "output_type": "stream",
     "text": [
      "Applied providers: ['CPUExecutionProvider'], with options: {'CPUExecutionProvider': {}}\n",
      "find model: ./models\\models\\buffalo_l\\1k3d68.onnx landmark_3d_68 ['None', 3, 192, 192] 0.0 1.0\n",
      "Applied providers: ['CPUExecutionProvider'], with options: {'CPUExecutionProvider': {}}\n",
      "find model: ./models\\models\\buffalo_l\\2d106det.onnx landmark_2d_106 ['None', 3, 192, 192] 0.0 1.0\n",
      "Applied providers: ['CPUExecutionProvider'], with options: {'CPUExecutionProvider': {}}\n",
      "find model: ./models\\models\\buffalo_l\\det_10g.onnx detection [1, 3, '?', '?'] 127.5 128.0\n",
      "Applied providers: ['CPUExecutionProvider'], with options: {'CPUExecutionProvider': {}}\n",
      "find model: ./models\\models\\buffalo_l\\genderage.onnx genderage ['None', 3, 96, 96] 0.0 1.0\n",
      "Applied providers: ['CPUExecutionProvider'], with options: {'CPUExecutionProvider': {}}\n",
      "find model: ./models\\models\\buffalo_l\\w600k_r50.onnx recognition ['None', 3, 112, 112] 127.5 127.5\n",
      "set det-size: (640, 640)\n"
     ]
    }
   ],
   "source": [
    "faceapp = FaceAnalysis(name='buffalo_l',root='./models',providers=['CPUExecutionProvider'])\n",
    "\n",
    "faceapp.prepare(ctx_id=0, det_size=(640,640))"
   ]
  },
  {
   "cell_type": "markdown",
   "id": "8ea31aac-585a-42c3-9742-fd769d07c6e8",
   "metadata": {},
   "source": [
    "#### Training model on dummy data"
   ]
  },
  {
   "cell_type": "code",
   "execution_count": 3,
   "id": "b91ca488-b6cb-4d4b-bef5-9484c73781b8",
   "metadata": {},
   "outputs": [
    {
     "name": "stderr",
     "output_type": "stream",
     "text": [
      "C:\\DEVELOPMENT\\Semester-projects\\ML\\v-attend\\venv\\Lib\\site-packages\\insightface\\utils\\transform.py:68: FutureWarning: `rcond` parameter will change to the default of machine precision times ``max(M, N)`` where M and N are the input matrix dimensions.\n",
      "To use the future default and silence this warning we advise to pass `rcond=None`, to keep using the old, explicitly pass `rcond=-1`.\n",
      "  P = np.linalg.lstsq(X_homo, Y)[0].T # Affine matrix. 3 x 4\n"
     ]
    }
   ],
   "source": [
    "students = []\n",
    "\n",
    "rootImagesPath = 'test_training_images'\n",
    "listdir = os.listdir(rootImagesPath)\n",
    "for folder_name in listdir:\n",
    "    regno, name = folder_name.split('_')\n",
    "\n",
    "    img_files = os.listdir(path=f'{rootImagesPath}/{folder_name}')\n",
    "    for file in img_files:\n",
    "        path = f'./{rootImagesPath}/{folder_name}/{file}'\n",
    "        img_arr = cv2.imread(path)      \n",
    "\n",
    "        if(img_arr is None):\n",
    "            pass\n",
    "        else:\n",
    "            result = faceapp.get(img_arr,max_num=1) \n",
    "            \n",
    "            if len(result) > 0:\n",
    "                res = result[0]\n",
    "                embedding = res['embedding']\n",
    "                students.append([name, regno, embedding])"
   ]
  },
  {
   "cell_type": "code",
   "execution_count": 4,
   "id": "c3bf75a2-7307-4237-b9d0-ebb1dc322b68",
   "metadata": {},
   "outputs": [
    {
     "data": {
      "text/html": [
       "<div>\n",
       "<style scoped>\n",
       "    .dataframe tbody tr th:only-of-type {\n",
       "        vertical-align: middle;\n",
       "    }\n",
       "\n",
       "    .dataframe tbody tr th {\n",
       "        vertical-align: top;\n",
       "    }\n",
       "\n",
       "    .dataframe thead th {\n",
       "        text-align: right;\n",
       "    }\n",
       "</style>\n",
       "<table border=\"1\" class=\"dataframe\">\n",
       "  <thead>\n",
       "    <tr style=\"text-align: right;\">\n",
       "      <th></th>\n",
       "      <th>Name</th>\n",
       "      <th>RegNo</th>\n",
       "      <th>Facial_Features</th>\n",
       "    </tr>\n",
       "  </thead>\n",
       "  <tbody>\n",
       "    <tr>\n",
       "      <th>0</th>\n",
       "      <td>Deepika Padukone</td>\n",
       "      <td>RNO1</td>\n",
       "      <td>[-0.9573581, -0.25624233, -1.0440776, -0.76392...</td>\n",
       "    </tr>\n",
       "    <tr>\n",
       "      <th>1</th>\n",
       "      <td>Deepika Padukone</td>\n",
       "      <td>RNO1</td>\n",
       "      <td>[-0.65350217, -0.0012033135, -0.45100838, 0.12...</td>\n",
       "    </tr>\n",
       "    <tr>\n",
       "      <th>2</th>\n",
       "      <td>Deepika Padukone</td>\n",
       "      <td>RNO1</td>\n",
       "      <td>[-0.8506129, 0.7182629, -0.37614322, 0.0990465...</td>\n",
       "    </tr>\n",
       "    <tr>\n",
       "      <th>3</th>\n",
       "      <td>Deepika Padukone</td>\n",
       "      <td>RNO1</td>\n",
       "      <td>[-0.44858345, 0.6458431, -0.9631757, 0.2934463...</td>\n",
       "    </tr>\n",
       "    <tr>\n",
       "      <th>4</th>\n",
       "      <td>Deepika Padukone</td>\n",
       "      <td>RNO1</td>\n",
       "      <td>[-0.82761776, -0.78956044, -0.34464675, 0.5439...</td>\n",
       "    </tr>\n",
       "    <tr>\n",
       "      <th>5</th>\n",
       "      <td>Shah Rukh</td>\n",
       "      <td>RNO2</td>\n",
       "      <td>[-1.6918119, -1.070892, 0.281236, 0.18796188, ...</td>\n",
       "    </tr>\n",
       "    <tr>\n",
       "      <th>6</th>\n",
       "      <td>Shah Rukh</td>\n",
       "      <td>RNO2</td>\n",
       "      <td>[-1.890654, 0.16781084, 1.112603, -0.23402384,...</td>\n",
       "    </tr>\n",
       "    <tr>\n",
       "      <th>7</th>\n",
       "      <td>Shah Rukh</td>\n",
       "      <td>RNO2</td>\n",
       "      <td>[-2.1608286, -1.6398307, -0.6714291, -0.230559...</td>\n",
       "    </tr>\n",
       "    <tr>\n",
       "      <th>8</th>\n",
       "      <td>Shah Rukh</td>\n",
       "      <td>RNO2</td>\n",
       "      <td>[-1.0876055, 0.24545057, 0.833314, 0.78193283,...</td>\n",
       "    </tr>\n",
       "    <tr>\n",
       "      <th>9</th>\n",
       "      <td>Vijay Devarakonda</td>\n",
       "      <td>RNO3</td>\n",
       "      <td>[0.53450793, -0.29662877, -0.6849566, -1.00796...</td>\n",
       "    </tr>\n",
       "    <tr>\n",
       "      <th>10</th>\n",
       "      <td>Vijay Devarakonda</td>\n",
       "      <td>RNO3</td>\n",
       "      <td>[0.02820523, -1.3886602, -0.81719476, -0.26402...</td>\n",
       "    </tr>\n",
       "    <tr>\n",
       "      <th>11</th>\n",
       "      <td>Vijay Devarakonda</td>\n",
       "      <td>RNO3</td>\n",
       "      <td>[-0.5982553, -0.65151304, -0.55940485, -0.7465...</td>\n",
       "    </tr>\n",
       "    <tr>\n",
       "      <th>12</th>\n",
       "      <td>Vijay Devarakonda</td>\n",
       "      <td>RNO3</td>\n",
       "      <td>[0.50420386, -0.25967577, -0.4295507, -0.67661...</td>\n",
       "    </tr>\n",
       "    <tr>\n",
       "      <th>13</th>\n",
       "      <td>Vijay Devarakonda</td>\n",
       "      <td>RNO3</td>\n",
       "      <td>[0.32240587, -1.0165071, -0.1327106, -0.201673...</td>\n",
       "    </tr>\n",
       "    <tr>\n",
       "      <th>14</th>\n",
       "      <td>Sidarth Malhotra</td>\n",
       "      <td>RNO4</td>\n",
       "      <td>[0.30944216, 1.0839651, 0.06728268, -0.0744684...</td>\n",
       "    </tr>\n",
       "    <tr>\n",
       "      <th>15</th>\n",
       "      <td>Sidarth Malhotra</td>\n",
       "      <td>RNO4</td>\n",
       "      <td>[0.48452544, 1.0784155, -0.44904214, 0.1107082...</td>\n",
       "    </tr>\n",
       "    <tr>\n",
       "      <th>16</th>\n",
       "      <td>Sidarth Malhotra</td>\n",
       "      <td>RNO4</td>\n",
       "      <td>[0.22700202, 0.8846015, -0.9773051, 0.28415596...</td>\n",
       "    </tr>\n",
       "    <tr>\n",
       "      <th>17</th>\n",
       "      <td>Sidarth Malhotra</td>\n",
       "      <td>RNO4</td>\n",
       "      <td>[0.6029566, 2.172272, -1.2314634, -0.7147508, ...</td>\n",
       "    </tr>\n",
       "    <tr>\n",
       "      <th>18</th>\n",
       "      <td>Sidarth Malhotra</td>\n",
       "      <td>RNO4</td>\n",
       "      <td>[0.5929547, -0.24652672, -1.0001945, 0.0925669...</td>\n",
       "    </tr>\n",
       "    <tr>\n",
       "      <th>19</th>\n",
       "      <td>Sidarth Malhotra</td>\n",
       "      <td>RNO4</td>\n",
       "      <td>[1.3039174, 1.1514081, -0.4816836, -0.84219193...</td>\n",
       "    </tr>\n",
       "    <tr>\n",
       "      <th>20</th>\n",
       "      <td>Sidarth Malhotra</td>\n",
       "      <td>RNO4</td>\n",
       "      <td>[0.5496297, 0.92424107, -0.5138188, -0.413103,...</td>\n",
       "    </tr>\n",
       "    <tr>\n",
       "      <th>21</th>\n",
       "      <td>Alia Bhatt</td>\n",
       "      <td>RNO5</td>\n",
       "      <td>[-0.37305012, 0.052777156, 0.47865266, -0.0440...</td>\n",
       "    </tr>\n",
       "    <tr>\n",
       "      <th>22</th>\n",
       "      <td>Alia Bhatt</td>\n",
       "      <td>RNO5</td>\n",
       "      <td>[-0.38472006, -0.8931857, 0.95957094, -0.30979...</td>\n",
       "    </tr>\n",
       "    <tr>\n",
       "      <th>23</th>\n",
       "      <td>Alia Bhatt</td>\n",
       "      <td>RNO5</td>\n",
       "      <td>[1.0315578, -0.5628338, 0.27809983, -0.2796705...</td>\n",
       "    </tr>\n",
       "    <tr>\n",
       "      <th>24</th>\n",
       "      <td>Alia Bhatt</td>\n",
       "      <td>RNO5</td>\n",
       "      <td>[-0.10802649, 0.087598786, 0.0031792521, -2.00...</td>\n",
       "    </tr>\n",
       "    <tr>\n",
       "      <th>25</th>\n",
       "      <td>Alia Bhatt</td>\n",
       "      <td>RNO5</td>\n",
       "      <td>[-0.085299596, 0.2226957, 0.84996736, 0.562261...</td>\n",
       "    </tr>\n",
       "    <tr>\n",
       "      <th>26</th>\n",
       "      <td>Kriti Sanon</td>\n",
       "      <td>RNO6</td>\n",
       "      <td>[-0.6133012, 0.2087077, -1.309377, 1.3840224, ...</td>\n",
       "    </tr>\n",
       "    <tr>\n",
       "      <th>27</th>\n",
       "      <td>Kriti Sanon</td>\n",
       "      <td>RNO6</td>\n",
       "      <td>[-0.8393009, -0.4952888, -0.6600052, 1.7945323...</td>\n",
       "    </tr>\n",
       "    <tr>\n",
       "      <th>28</th>\n",
       "      <td>Kriti Sanon</td>\n",
       "      <td>RNO6</td>\n",
       "      <td>[-1.8258115, -1.1281533, -0.52713156, 0.572020...</td>\n",
       "    </tr>\n",
       "    <tr>\n",
       "      <th>29</th>\n",
       "      <td>Kriti Sanon</td>\n",
       "      <td>RNO6</td>\n",
       "      <td>[-1.3048308, 0.21700834, -2.0588288, 1.2382777...</td>\n",
       "    </tr>\n",
       "    <tr>\n",
       "      <th>30</th>\n",
       "      <td>Kriti Sanon</td>\n",
       "      <td>RNO6</td>\n",
       "      <td>[-0.7969445, 0.071559295, -0.98786503, 0.91850...</td>\n",
       "    </tr>\n",
       "    <tr>\n",
       "      <th>31</th>\n",
       "      <td>Kriti Sanon</td>\n",
       "      <td>RNO6</td>\n",
       "      <td>[-1.364923, -0.14898477, -0.5909016, 1.3819526...</td>\n",
       "    </tr>\n",
       "    <tr>\n",
       "      <th>32</th>\n",
       "      <td>Kriti Sanon</td>\n",
       "      <td>RNO6</td>\n",
       "      <td>[-0.9691743, 0.2564698, -1.413265, 0.60820645,...</td>\n",
       "    </tr>\n",
       "    <tr>\n",
       "      <th>33</th>\n",
       "      <td>Kriti Sanon</td>\n",
       "      <td>RNO6</td>\n",
       "      <td>[-0.04594555, -0.2600625, -0.96285814, 0.48586...</td>\n",
       "    </tr>\n",
       "  </tbody>\n",
       "</table>\n",
       "</div>"
      ],
      "text/plain": [
       "                 Name RegNo                                    Facial_Features\n",
       "0    Deepika Padukone  RNO1  [-0.9573581, -0.25624233, -1.0440776, -0.76392...\n",
       "1    Deepika Padukone  RNO1  [-0.65350217, -0.0012033135, -0.45100838, 0.12...\n",
       "2    Deepika Padukone  RNO1  [-0.8506129, 0.7182629, -0.37614322, 0.0990465...\n",
       "3    Deepika Padukone  RNO1  [-0.44858345, 0.6458431, -0.9631757, 0.2934463...\n",
       "4    Deepika Padukone  RNO1  [-0.82761776, -0.78956044, -0.34464675, 0.5439...\n",
       "5           Shah Rukh  RNO2  [-1.6918119, -1.070892, 0.281236, 0.18796188, ...\n",
       "6           Shah Rukh  RNO2  [-1.890654, 0.16781084, 1.112603, -0.23402384,...\n",
       "7           Shah Rukh  RNO2  [-2.1608286, -1.6398307, -0.6714291, -0.230559...\n",
       "8           Shah Rukh  RNO2  [-1.0876055, 0.24545057, 0.833314, 0.78193283,...\n",
       "9   Vijay Devarakonda  RNO3  [0.53450793, -0.29662877, -0.6849566, -1.00796...\n",
       "10  Vijay Devarakonda  RNO3  [0.02820523, -1.3886602, -0.81719476, -0.26402...\n",
       "11  Vijay Devarakonda  RNO3  [-0.5982553, -0.65151304, -0.55940485, -0.7465...\n",
       "12  Vijay Devarakonda  RNO3  [0.50420386, -0.25967577, -0.4295507, -0.67661...\n",
       "13  Vijay Devarakonda  RNO3  [0.32240587, -1.0165071, -0.1327106, -0.201673...\n",
       "14   Sidarth Malhotra  RNO4  [0.30944216, 1.0839651, 0.06728268, -0.0744684...\n",
       "15   Sidarth Malhotra  RNO4  [0.48452544, 1.0784155, -0.44904214, 0.1107082...\n",
       "16   Sidarth Malhotra  RNO4  [0.22700202, 0.8846015, -0.9773051, 0.28415596...\n",
       "17   Sidarth Malhotra  RNO4  [0.6029566, 2.172272, -1.2314634, -0.7147508, ...\n",
       "18   Sidarth Malhotra  RNO4  [0.5929547, -0.24652672, -1.0001945, 0.0925669...\n",
       "19   Sidarth Malhotra  RNO4  [1.3039174, 1.1514081, -0.4816836, -0.84219193...\n",
       "20   Sidarth Malhotra  RNO4  [0.5496297, 0.92424107, -0.5138188, -0.413103,...\n",
       "21         Alia Bhatt  RNO5  [-0.37305012, 0.052777156, 0.47865266, -0.0440...\n",
       "22         Alia Bhatt  RNO5  [-0.38472006, -0.8931857, 0.95957094, -0.30979...\n",
       "23         Alia Bhatt  RNO5  [1.0315578, -0.5628338, 0.27809983, -0.2796705...\n",
       "24         Alia Bhatt  RNO5  [-0.10802649, 0.087598786, 0.0031792521, -2.00...\n",
       "25         Alia Bhatt  RNO5  [-0.085299596, 0.2226957, 0.84996736, 0.562261...\n",
       "26        Kriti Sanon  RNO6  [-0.6133012, 0.2087077, -1.309377, 1.3840224, ...\n",
       "27        Kriti Sanon  RNO6  [-0.8393009, -0.4952888, -0.6600052, 1.7945323...\n",
       "28        Kriti Sanon  RNO6  [-1.8258115, -1.1281533, -0.52713156, 0.572020...\n",
       "29        Kriti Sanon  RNO6  [-1.3048308, 0.21700834, -2.0588288, 1.2382777...\n",
       "30        Kriti Sanon  RNO6  [-0.7969445, 0.071559295, -0.98786503, 0.91850...\n",
       "31        Kriti Sanon  RNO6  [-1.364923, -0.14898477, -0.5909016, 1.3819526...\n",
       "32        Kriti Sanon  RNO6  [-0.9691743, 0.2564698, -1.413265, 0.60820645,...\n",
       "33        Kriti Sanon  RNO6  [-0.04594555, -0.2600625, -0.96285814, 0.48586..."
      ]
     },
     "execution_count": 4,
     "metadata": {},
     "output_type": "execute_result"
    }
   ],
   "source": [
    "dataframe = pd.DataFrame(students,columns=['Name','RegNo','Facial_Features'])\n",
    "dataframe "
   ]
  },
  {
   "cell_type": "markdown",
   "id": "cc95734c-735f-4e1c-8d3d-45894bfb806a",
   "metadata": {},
   "source": [
    "#### Inference with test image"
   ]
  },
  {
   "cell_type": "code",
   "execution_count": 5,
   "id": "e46baabd-b5c4-4681-8a72-473c373a49f6",
   "metadata": {},
   "outputs": [],
   "source": [
    "img_test = cv2.imread('./test_test_images/1.jpg')\n",
    "cv2.imshow('test image',img_test)\n",
    "cv2.waitKey(0)\n",
    "cv2.destroyAllWindows()"
   ]
  },
  {
   "cell_type": "code",
   "execution_count": 6,
   "id": "a94afd99-c08f-419f-8128-0ae63cc270b9",
   "metadata": {},
   "outputs": [
    {
     "name": "stderr",
     "output_type": "stream",
     "text": [
      "C:\\DEVELOPMENT\\Semester-projects\\ML\\v-attend\\venv\\Lib\\site-packages\\insightface\\utils\\transform.py:68: FutureWarning: `rcond` parameter will change to the default of machine precision times ``max(M, N)`` where M and N are the input matrix dimensions.\n",
      "To use the future default and silence this warning we advise to pass `rcond=None`, to keep using the old, explicitly pass `rcond=-1`.\n",
      "  P = np.linalg.lstsq(X_homo, Y)[0].T # Affine matrix. 3 x 4\n"
     ]
    }
   ],
   "source": [
    "res_test = faceapp.get(img_test,max_num=0)\n",
    "for i, rt in enumerate(res_test):\n",
    "    embed_test = rt['embedding']"
   ]
  },
  {
   "cell_type": "code",
   "execution_count": 7,
   "id": "f6febc5c-fbbf-48ef-afe8-7461c5cdb32e",
   "metadata": {},
   "outputs": [
    {
     "data": {
      "text/plain": [
       "512"
      ]
     },
     "execution_count": 7,
     "metadata": {},
     "output_type": "execute_result"
    }
   ],
   "source": [
    "len(embed_test)"
   ]
  },
  {
   "cell_type": "code",
   "execution_count": 8,
   "id": "d0343b52-6fe1-41fc-be5e-dcafa885365a",
   "metadata": {},
   "outputs": [],
   "source": [
    "X_list =  dataframe['Facial_Features'].tolist()\n",
    "X = np.asarray(X_list)"
   ]
  },
  {
   "cell_type": "code",
   "execution_count": 9,
   "id": "0e37b1ef-ebb0-4940-aa6e-3ba0b43df282",
   "metadata": {},
   "outputs": [],
   "source": [
    "y = embed_test.reshape(1,512) # 1 x 512"
   ]
  },
  {
   "cell_type": "code",
   "execution_count": 10,
   "id": "8ed77d9e-ca9b-4726-87ce-259e4f31f0f8",
   "metadata": {},
   "outputs": [],
   "source": [
    "cosine_similar = pairwise.cosine_similarity(X,y)"
   ]
  },
  {
   "cell_type": "code",
   "execution_count": 11,
   "id": "cc5ae4f1-8d42-4df1-b1df-596abb792cc0",
   "metadata": {},
   "outputs": [],
   "source": [
    "data_search = dataframe.copy()\n",
    "data_search['cosine'] = cosine_similar"
   ]
  },
  {
   "cell_type": "code",
   "execution_count": 12,
   "id": "ff672b22-3a9e-4098-b27c-eeaf9fa08ef1",
   "metadata": {},
   "outputs": [
    {
     "data": {
      "text/html": [
       "<div>\n",
       "<style scoped>\n",
       "    .dataframe tbody tr th:only-of-type {\n",
       "        vertical-align: middle;\n",
       "    }\n",
       "\n",
       "    .dataframe tbody tr th {\n",
       "        vertical-align: top;\n",
       "    }\n",
       "\n",
       "    .dataframe thead th {\n",
       "        text-align: right;\n",
       "    }\n",
       "</style>\n",
       "<table border=\"1\" class=\"dataframe\">\n",
       "  <thead>\n",
       "    <tr style=\"text-align: right;\">\n",
       "      <th></th>\n",
       "      <th>Name</th>\n",
       "      <th>RegNo</th>\n",
       "      <th>Facial_Features</th>\n",
       "      <th>cosine</th>\n",
       "    </tr>\n",
       "  </thead>\n",
       "  <tbody>\n",
       "    <tr>\n",
       "      <th>0</th>\n",
       "      <td>Deepika Padukone</td>\n",
       "      <td>RNO1</td>\n",
       "      <td>[-0.9573581, -0.25624233, -1.0440776, -0.76392...</td>\n",
       "      <td>0.753564</td>\n",
       "    </tr>\n",
       "    <tr>\n",
       "      <th>1</th>\n",
       "      <td>Deepika Padukone</td>\n",
       "      <td>RNO1</td>\n",
       "      <td>[-0.65350217, -0.0012033135, -0.45100838, 0.12...</td>\n",
       "      <td>0.731242</td>\n",
       "    </tr>\n",
       "    <tr>\n",
       "      <th>2</th>\n",
       "      <td>Deepika Padukone</td>\n",
       "      <td>RNO1</td>\n",
       "      <td>[-0.8506129, 0.7182629, -0.37614322, 0.0990465...</td>\n",
       "      <td>0.692320</td>\n",
       "    </tr>\n",
       "    <tr>\n",
       "      <th>3</th>\n",
       "      <td>Deepika Padukone</td>\n",
       "      <td>RNO1</td>\n",
       "      <td>[-0.44858345, 0.6458431, -0.9631757, 0.2934463...</td>\n",
       "      <td>0.657124</td>\n",
       "    </tr>\n",
       "    <tr>\n",
       "      <th>4</th>\n",
       "      <td>Deepika Padukone</td>\n",
       "      <td>RNO1</td>\n",
       "      <td>[-0.82761776, -0.78956044, -0.34464675, 0.5439...</td>\n",
       "      <td>0.712940</td>\n",
       "    </tr>\n",
       "  </tbody>\n",
       "</table>\n",
       "</div>"
      ],
      "text/plain": [
       "               Name RegNo                                    Facial_Features  \\\n",
       "0  Deepika Padukone  RNO1  [-0.9573581, -0.25624233, -1.0440776, -0.76392...   \n",
       "1  Deepika Padukone  RNO1  [-0.65350217, -0.0012033135, -0.45100838, 0.12...   \n",
       "2  Deepika Padukone  RNO1  [-0.8506129, 0.7182629, -0.37614322, 0.0990465...   \n",
       "3  Deepika Padukone  RNO1  [-0.44858345, 0.6458431, -0.9631757, 0.2934463...   \n",
       "4  Deepika Padukone  RNO1  [-0.82761776, -0.78956044, -0.34464675, 0.5439...   \n",
       "\n",
       "     cosine  \n",
       "0  0.753564  \n",
       "1  0.731242  \n",
       "2  0.692320  \n",
       "3  0.657124  \n",
       "4  0.712940  "
      ]
     },
     "execution_count": 12,
     "metadata": {},
     "output_type": "execute_result"
    }
   ],
   "source": [
    "data_search.head()"
   ]
  },
  {
   "cell_type": "code",
   "execution_count": 13,
   "id": "1b3ae1ee-9d71-46f0-88e3-263aeeda057f",
   "metadata": {},
   "outputs": [],
   "source": [
    "datafilter = data_search.query('cosine>0.5')\n",
    "datafilter.reset_index(drop=True,inplace=True)\n",
    "\n",
    "if len(datafilter) > 0:\n",
    "    argmax = datafilter['cosine'].argmax()\n",
    "    name_cos , regNo_cos = datafilter.loc[argmax][['Name','RegNo']]\n",
    "    \n",
    "else:\n",
    "    name_cos = 'Unknown'\n",
    "    regNo_cos = 'Unknown'"
   ]
  },
  {
   "cell_type": "code",
   "execution_count": 14,
   "id": "be80bb66-8fed-41c9-a988-0a18751389f1",
   "metadata": {},
   "outputs": [
    {
     "name": "stdout",
     "output_type": "stream",
     "text": [
      "Deepika Padukone RNO1\n"
     ]
    }
   ],
   "source": [
    "print(name_cos,regNo_cos)"
   ]
  },
  {
   "cell_type": "markdown",
   "id": "5efd62f5-001a-444c-b8c6-caacf5f79f8d",
   "metadata": {},
   "source": [
    "#### Compress and compare results"
   ]
  },
  {
   "cell_type": "code",
   "execution_count": 15,
   "id": "51ee8746-2431-4b02-b534-93e98ea16042",
   "metadata": {},
   "outputs": [
    {
     "data": {
      "text/html": [
       "<div>\n",
       "<style scoped>\n",
       "    .dataframe tbody tr th:only-of-type {\n",
       "        vertical-align: middle;\n",
       "    }\n",
       "\n",
       "    .dataframe tbody tr th {\n",
       "        vertical-align: top;\n",
       "    }\n",
       "\n",
       "    .dataframe thead th {\n",
       "        text-align: right;\n",
       "    }\n",
       "</style>\n",
       "<table border=\"1\" class=\"dataframe\">\n",
       "  <thead>\n",
       "    <tr style=\"text-align: right;\">\n",
       "      <th></th>\n",
       "      <th>Name</th>\n",
       "      <th>RegNo</th>\n",
       "      <th>Facial_Features</th>\n",
       "    </tr>\n",
       "  </thead>\n",
       "  <tbody>\n",
       "    <tr>\n",
       "      <th>0</th>\n",
       "      <td>Alia Bhatt</td>\n",
       "      <td>RNO5</td>\n",
       "      <td>[0.016092306, -0.21858957, 0.51389396, -0.4144...</td>\n",
       "    </tr>\n",
       "    <tr>\n",
       "      <th>1</th>\n",
       "      <td>Deepika Padukone</td>\n",
       "      <td>RNO1</td>\n",
       "      <td>[-0.7475349, 0.06341998, -0.6358103, 0.0585210...</td>\n",
       "    </tr>\n",
       "    <tr>\n",
       "      <th>2</th>\n",
       "      <td>Kriti Sanon</td>\n",
       "      <td>RNO6</td>\n",
       "      <td>[-0.970029, -0.15984303, -1.0637791, 1.0479219...</td>\n",
       "    </tr>\n",
       "    <tr>\n",
       "      <th>3</th>\n",
       "      <td>Shah Rukh</td>\n",
       "      <td>RNO2</td>\n",
       "      <td>[-1.707725, -0.5743653, 0.38893095, 0.12632784...</td>\n",
       "    </tr>\n",
       "    <tr>\n",
       "      <th>4</th>\n",
       "      <td>Sidarth Malhotra</td>\n",
       "      <td>RNO4</td>\n",
       "      <td>[0.5814897, 1.006911, -0.65517503, -0.22244044...</td>\n",
       "    </tr>\n",
       "    <tr>\n",
       "      <th>5</th>\n",
       "      <td>Vijay Devarakonda</td>\n",
       "      <td>RNO3</td>\n",
       "      <td>[0.15821353, -0.722597, -0.5247635, -0.5793685...</td>\n",
       "    </tr>\n",
       "  </tbody>\n",
       "</table>\n",
       "</div>"
      ],
      "text/plain": [
       "                Name RegNo                                    Facial_Features\n",
       "0         Alia Bhatt  RNO5  [0.016092306, -0.21858957, 0.51389396, -0.4144...\n",
       "1   Deepika Padukone  RNO1  [-0.7475349, 0.06341998, -0.6358103, 0.0585210...\n",
       "2        Kriti Sanon  RNO6  [-0.970029, -0.15984303, -1.0637791, 1.0479219...\n",
       "3          Shah Rukh  RNO2  [-1.707725, -0.5743653, 0.38893095, 0.12632784...\n",
       "4   Sidarth Malhotra  RNO4  [0.5814897, 1.006911, -0.65517503, -0.22244044...\n",
       "5  Vijay Devarakonda  RNO3  [0.15821353, -0.722597, -0.5247635, -0.5793685..."
      ]
     },
     "execution_count": 15,
     "metadata": {},
     "output_type": "execute_result"
    }
   ],
   "source": [
    "dataframe_compress = dataframe.groupby(by=['Name','RegNo']).mean()\n",
    "dataframe_compress.reset_index(inplace=True)\n",
    "dataframe_compress"
   ]
  },
  {
   "cell_type": "code",
   "execution_count": 16,
   "id": "7cf90c7e-2b5e-4acb-8c61-98b7cd7fdd80",
   "metadata": {},
   "outputs": [],
   "source": [
    "X_list =  dataframe_compress['Facial_Features'].tolist()\n",
    "X = np.asarray(X_list)"
   ]
  },
  {
   "cell_type": "code",
   "execution_count": 17,
   "id": "737f5fe3-7c74-42c3-a2c5-6863e9af9ca8",
   "metadata": {},
   "outputs": [],
   "source": [
    "cosine_similar = pairwise.cosine_similarity(X,y)"
   ]
  },
  {
   "cell_type": "code",
   "execution_count": 19,
   "id": "6624344b-4278-4f07-a3f1-c0673f16d171",
   "metadata": {},
   "outputs": [],
   "source": [
    "data_search = dataframe_compress.copy()\n",
    "data_search['cosine'] = cosine_similar"
   ]
  },
  {
   "cell_type": "code",
   "execution_count": 20,
   "id": "813b26b1-41d9-400e-802a-491d1c664b67",
   "metadata": {},
   "outputs": [
    {
     "data": {
      "text/html": [
       "<div>\n",
       "<style scoped>\n",
       "    .dataframe tbody tr th:only-of-type {\n",
       "        vertical-align: middle;\n",
       "    }\n",
       "\n",
       "    .dataframe tbody tr th {\n",
       "        vertical-align: top;\n",
       "    }\n",
       "\n",
       "    .dataframe thead th {\n",
       "        text-align: right;\n",
       "    }\n",
       "</style>\n",
       "<table border=\"1\" class=\"dataframe\">\n",
       "  <thead>\n",
       "    <tr style=\"text-align: right;\">\n",
       "      <th></th>\n",
       "      <th>Name</th>\n",
       "      <th>RegNo</th>\n",
       "      <th>Facial_Features</th>\n",
       "      <th>cosine</th>\n",
       "    </tr>\n",
       "  </thead>\n",
       "  <tbody>\n",
       "    <tr>\n",
       "      <th>0</th>\n",
       "      <td>Alia Bhatt</td>\n",
       "      <td>RNO5</td>\n",
       "      <td>[0.016092306, -0.21858957, 0.51389396, -0.4144...</td>\n",
       "      <td>0.141109</td>\n",
       "    </tr>\n",
       "    <tr>\n",
       "      <th>1</th>\n",
       "      <td>Deepika Padukone</td>\n",
       "      <td>RNO1</td>\n",
       "      <td>[-0.7475349, 0.06341998, -0.6358103, 0.0585210...</td>\n",
       "      <td>0.819566</td>\n",
       "    </tr>\n",
       "    <tr>\n",
       "      <th>2</th>\n",
       "      <td>Kriti Sanon</td>\n",
       "      <td>RNO6</td>\n",
       "      <td>[-0.970029, -0.15984303, -1.0637791, 1.0479219...</td>\n",
       "      <td>0.209616</td>\n",
       "    </tr>\n",
       "    <tr>\n",
       "      <th>3</th>\n",
       "      <td>Shah Rukh</td>\n",
       "      <td>RNO2</td>\n",
       "      <td>[-1.707725, -0.5743653, 0.38893095, 0.12632784...</td>\n",
       "      <td>0.012516</td>\n",
       "    </tr>\n",
       "    <tr>\n",
       "      <th>4</th>\n",
       "      <td>Sidarth Malhotra</td>\n",
       "      <td>RNO4</td>\n",
       "      <td>[0.5814897, 1.006911, -0.65517503, -0.22244044...</td>\n",
       "      <td>0.106218</td>\n",
       "    </tr>\n",
       "  </tbody>\n",
       "</table>\n",
       "</div>"
      ],
      "text/plain": [
       "               Name RegNo                                    Facial_Features  \\\n",
       "0        Alia Bhatt  RNO5  [0.016092306, -0.21858957, 0.51389396, -0.4144...   \n",
       "1  Deepika Padukone  RNO1  [-0.7475349, 0.06341998, -0.6358103, 0.0585210...   \n",
       "2       Kriti Sanon  RNO6  [-0.970029, -0.15984303, -1.0637791, 1.0479219...   \n",
       "3         Shah Rukh  RNO2  [-1.707725, -0.5743653, 0.38893095, 0.12632784...   \n",
       "4  Sidarth Malhotra  RNO4  [0.5814897, 1.006911, -0.65517503, -0.22244044...   \n",
       "\n",
       "     cosine  \n",
       "0  0.141109  \n",
       "1  0.819566  \n",
       "2  0.209616  \n",
       "3  0.012516  \n",
       "4  0.106218  "
      ]
     },
     "execution_count": 20,
     "metadata": {},
     "output_type": "execute_result"
    }
   ],
   "source": [
    "data_search.head()"
   ]
  },
  {
   "cell_type": "code",
   "execution_count": 21,
   "id": "c927c53f-02d0-4e70-8e4e-d102388d1c5a",
   "metadata": {},
   "outputs": [],
   "source": [
    "datafilter = data_search.query('cosine>0.5')\n",
    "datafilter.reset_index(drop=True,inplace=True)\n",
    "\n",
    "if len(datafilter) > 0:\n",
    "    argmax = datafilter['cosine'].argmax()\n",
    "    name_cos , regNo_cos = datafilter.loc[argmax][['Name','RegNo']]\n",
    "    \n",
    "else:\n",
    "    name_cos = 'Unknown'\n",
    "    regNo_cos = 'Unknown'"
   ]
  },
  {
   "cell_type": "code",
   "execution_count": 22,
   "id": "c3f821e6-a5bd-4980-adbc-3ac72183eeb2",
   "metadata": {},
   "outputs": [
    {
     "name": "stdout",
     "output_type": "stream",
     "text": [
      "Deepika Padukone RNO1\n"
     ]
    }
   ],
   "source": [
    "print(name_cos,regNo_cos)"
   ]
  }
 ],
 "metadata": {
  "kernelspec": {
   "display_name": "Python 3 (ipykernel)",
   "language": "python",
   "name": "python3"
  },
  "language_info": {
   "codemirror_mode": {
    "name": "ipython",
    "version": 3
   },
   "file_extension": ".py",
   "mimetype": "text/x-python",
   "name": "python",
   "nbconvert_exporter": "python",
   "pygments_lexer": "ipython3",
   "version": "3.11.1"
  }
 },
 "nbformat": 4,
 "nbformat_minor": 5
}
